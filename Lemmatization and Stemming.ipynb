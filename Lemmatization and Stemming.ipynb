{
 "cells": [
  {
   "cell_type": "markdown",
   "metadata": {},
   "source": [
    "# Natural Language Processing\n",
    "## Part 3: Stemming vs Lemmatization"
   ]
  },
  {
   "cell_type": "markdown",
   "metadata": {},
   "source": [
    "This Jupyter notebook demonstrates how to process text data before running machine learning and rule-based algoritthms to "
   ]
  },
  {
   "cell_type": "code",
   "execution_count": 1,
   "metadata": {},
   "outputs": [
    {
     "name": "stderr",
     "output_type": "stream",
     "text": [
      "[nltk_data] Downloading package wordnet to\n",
      "[nltk_data]     /Users/avielstern/nltk_data...\n",
      "[nltk_data]   Package wordnet is already up-to-date!\n"
     ]
    }
   ],
   "source": [
    "# Import NLTK\n",
    "import nltk\n",
    "nltk.download('wordnet')\n",
    "\n",
    "#import stem package\n",
    "from nltk import stem\n",
    "from nltk.corpus import wordnet\n",
    "\n",
    "# import lemmitzer package\n",
    "from nltk.stem import WordNetLemmatizer "
   ]
  },
  {
   "cell_type": "code",
   "execution_count": 2,
   "metadata": {},
   "outputs": [],
   "source": [
    "# stemmer\n",
    "porter = stem.porter.PorterStemmer()\n",
    "\n",
    "# lemmitzation\n",
    "lem = stem.WordNetLemmatizer()"
   ]
  },
  {
   "cell_type": "code",
   "execution_count": 3,
   "metadata": {},
   "outputs": [
    {
     "name": "stdout",
     "output_type": "stream",
     "text": [
      "['play', 'playing', 'played'] --------------------> ['play', 'play', 'play']\n",
      "['feet', 'foot', 'foots', 'footing'] ------------->  ['feet', 'foot', 'foot', 'foot']\n",
      "['organize', 'organizing', 'organization'] ------->  ['organ', 'organ', 'organ']\n",
      "['benefactor', 'benevolent', 'beneficial'] ------->  ['benefactor', 'benevol', 'benefici']\n",
      "['universe', 'university'] ------->  ['univers', 'univers']\n"
     ]
    }
   ],
   "source": [
    "word_list1 = ['play', 'playing', 'played']\n",
    "word_list2 = ['feet', 'foot', 'foots', 'footing']\n",
    "word_list3 = ['organize', 'organizing', 'organization']\n",
    "word_list4 = ['benefactor', 'benevolent', 'beneficial']\n",
    "word_list5 = ['universe', 'university']\n",
    "\n",
    "print(\"['play', 'playing', 'played'] -------------------->\", [porter.stem(word) for word in word_list1])\n",
    "print(\"['feet', 'foot', 'foots', 'footing'] -------------> \", [porter.stem(word) for word in word_list2])\n",
    "print(\"['organize', 'organizing', 'organization'] -------> \", [porter.stem(word) for word in word_list3])\n",
    "print(\"['benefactor', 'benevolent', 'beneficial'] -------> \", [porter.stem(word) for word in word_list4])\n",
    "print(\"['universe', 'university'] -------> \", [porter.stem(word) for word in word_list5])"
   ]
  },
  {
   "cell_type": "code",
   "execution_count": 4,
   "metadata": {},
   "outputs": [
    {
     "name": "stdout",
     "output_type": "stream",
     "text": [
      "car revolut\n"
     ]
    }
   ],
   "source": [
    "from nltk.stem.porter import PorterStemmer\n",
    "stemmer = PorterStemmer()\n",
    "word1  = 'cars'\n",
    "word2 = 'revolution'\n",
    "print(stemmer.stem(word1), stemmer.stem(word2))"
   ]
  },
  {
   "cell_type": "markdown",
   "metadata": {},
   "source": [
    "Excerpt From: Sowmya Vajjala, Bodhisattwa Majumder, Anuj Gupta & Harshit Surana. “Practical Natural Language Processing.” Apple Books. https://books.apple.com/us/book/practical-natural-language-processing/id1519103544"
   ]
  },
  {
   "cell_type": "code",
   "execution_count": 5,
   "metadata": {},
   "outputs": [
    {
     "name": "stdout",
     "output_type": "stream",
     "text": [
      "['play', 'playing', 'played'] --------------------> ['play', 'playing', 'played']\n",
      "['feet', 'foot', 'foots', 'footing'] ------------->  ['foot', 'foot', 'foot', 'footing']\n",
      "['organize', 'organizing', 'organization'] ------->  ['organize', 'organizing', 'organization']\n",
      "['benefactor', 'benevolent', 'beneficial'] ------->  ['benefactor', 'benevolent', 'beneficial']\n",
      "['universe', 'university'] ------->  ['universe', 'university']\n"
     ]
    }
   ],
   "source": [
    "print(\"['play', 'playing', 'played'] -------------------->\", [lem.lemmatize(word) for word in word_list1])\n",
    "print(\"['feet', 'foot', 'foots', 'footing'] -------------> \", [lem.lemmatize(word) for word in word_list2])\n",
    "print(\"['organize', 'organizing', 'organization'] -------> \", [lem.lemmatize(word) for word in word_list3])\n",
    "print(\"['benefactor', 'benevolent', 'beneficial'] -------> \", [lem.lemmatize(word) for word in word_list4])\n",
    "print(\"['universe', 'university'] -------> \", [lem.lemmatize(word) for word in word_list5])"
   ]
  },
  {
   "cell_type": "code",
   "execution_count": 7,
   "metadata": {},
   "outputs": [
    {
     "name": "stdout",
     "output_type": "stream",
     "text": [
      "good\n"
     ]
    }
   ],
   "source": [
    "from nltk.stem import WordNetLemmatizer\n",
    "lemmatizer = WordNetLemmatizer()\n",
    "print(lemmatizer.lemmatize(\"better\", pos=\"a\")) #a is for adjective”"
   ]
  },
  {
   "cell_type": "code",
   "execution_count": 9,
   "metadata": {},
   "outputs": [
    {
     "name": "stdout",
     "output_type": "stream",
     "text": [
      "good\n"
     ]
    }
   ],
   "source": [
    "print(lemmatizer.lemmatize(\"better\", pos=\"a\")) #a is for adjective”"
   ]
  },
  {
   "cell_type": "code",
   "execution_count": 10,
   "metadata": {},
   "outputs": [
    {
     "name": "stdout",
     "output_type": "stream",
     "text": [
      "better\n"
     ]
    }
   ],
   "source": [
    "print(lemmatizer.lemmatize(\"better\", pos=\"n\")) #a is for adjective”"
   ]
  },
  {
   "cell_type": "code",
   "execution_count": 11,
   "metadata": {},
   "outputs": [
    {
     "name": "stdout",
     "output_type": "stream",
     "text": [
      "better\n"
     ]
    }
   ],
   "source": [
    "print(lemmatizer.lemmatize(\"better\")) #a is for adjective”"
   ]
  },
  {
   "cell_type": "code",
   "execution_count": 12,
   "metadata": {},
   "outputs": [
    {
     "name": "stdout",
     "output_type": "stream",
     "text": [
      "pony\n",
      "caress\n",
      "cat\n"
     ]
    }
   ],
   "source": [
    "print(lemmatizer.lemmatize(\"ponies\"))\n",
    "print(lemmatizer.lemmatize(\"caresses\"))\n",
    "print(lemmatizer.lemmatize(\"cats\"))"
   ]
  },
  {
   "cell_type": "markdown",
   "metadata": {},
   "source": [
    "**Conjugatation of 'To Be'**\n",
    "\n",
    "    Present Tense:\n",
    "        I am \n",
    "        You are\t\n",
    "        He/She/It is\n",
    "        \n",
    "        We are\n",
    "        You are\n",
    "        They are\n",
    "        \n",
    "    Past Tense:\n",
    "        I was\t\n",
    "        You were\t\n",
    "        He/She/It was\n",
    "        \n",
    "        We were\n",
    "        You were\n",
    "        They were\n"
   ]
  },
  {
   "cell_type": "code",
   "execution_count": 13,
   "metadata": {},
   "outputs": [
    {
     "name": "stdout",
     "output_type": "stream",
     "text": [
      "I am ---> To be\n",
      "You are --> To be\n",
      "He is --> To be\n",
      "They were --> To be\n"
     ]
    }
   ],
   "source": [
    "print('I am ---> To', lemmatizer.lemmatize(\"am\", pos=\"v\")) #v is for verb”\n",
    "print('You are --> To', lemmatizer.lemmatize(\"are\", pos=\"v\")) #v is for verb”\n",
    "print('He is --> To', lemmatizer.lemmatize(\"is\", pos=\"v\")) #v is for verb”\n",
    "print('They were --> To', lemmatizer.lemmatize(\"were\", pos=\"v\")) #v is for verb”"
   ]
  },
  {
   "cell_type": "markdown",
   "metadata": {},
   "source": [
    "Different forms of confjugation of run: \n",
    "\n",
    "    I run\n",
    "    She runs\n",
    "    We are running\n",
    "    They ran\n"
   ]
  },
  {
   "cell_type": "code",
   "execution_count": 14,
   "metadata": {},
   "outputs": [
    {
     "name": "stdout",
     "output_type": "stream",
     "text": [
      "run\n",
      "run\n",
      "run\n",
      "run\n"
     ]
    }
   ],
   "source": [
    "print(lemmatizer.lemmatize(\"run\", pos=\"v\")) #v is for verb”\n",
    "print(lemmatizer.lemmatize(\"runs\", pos=\"v\")) #v is for verb”\n",
    "print(lemmatizer.lemmatize(\"ran\", pos=\"v\")) #v is for verb”\n",
    "print(lemmatizer.lemmatize(\"running\", pos=\"v\")) #v is for verb”"
   ]
  },
  {
   "cell_type": "code",
   "execution_count": 16,
   "metadata": {},
   "outputs": [
    {
     "name": "stdout",
     "output_type": "stream",
     "text": [
      "run\n",
      "run\n",
      "ran\n",
      "running\n"
     ]
    }
   ],
   "source": [
    "print(lemmatizer.lemmatize(\"run\"))\n",
    "print(lemmatizer.lemmatize(\"runs\"))\n",
    "print(lemmatizer.lemmatize(\"ran\")) \n",
    "print(lemmatizer.lemmatize(\"running\"))"
   ]
  },
  {
   "cell_type": "code",
   "execution_count": 17,
   "metadata": {},
   "outputs": [
    {
     "name": "stdout",
     "output_type": "stream",
     "text": [
      "['play', 'playing', 'played'] --------------------> ['am', 'are', 'is']\n"
     ]
    }
   ],
   "source": [
    "word_list = ['am', 'are', 'is']\n",
    "print(\"['play', 'playing', 'played'] -------------------->\", [porter.stem(word) for word in word_list])"
   ]
  },
  {
   "cell_type": "markdown",
   "metadata": {},
   "source": [
    "Excerpt From: Sowmya Vajjala, Bodhisattwa Majumder, Anuj Gupta & Harshit Surana. “Practical Natural Language Processing.” Apple Books. https://books.apple.com/us/book/practical-natural-language-processing/id1519103544"
   ]
  },
  {
   "cell_type": "markdown",
   "metadata": {},
   "source": [
    "More complicated unusual verb conjucation"
   ]
  },
  {
   "cell_type": "code",
   "execution_count": 18,
   "metadata": {},
   "outputs": [
    {
     "name": "stdout",
     "output_type": "stream",
     "text": [
      "beheld behold\n",
      "witheld withhold\n",
      "flung fling\n"
     ]
    }
   ],
   "source": [
    "print('beheld', lem.lemmatize('beheld', pos = 'v'))\n",
    "print('witheld', lem.lemmatize('withheld', pos = 'v'))\n",
    "print('flung', lem.lemmatize('flung', pos = 'v'))"
   ]
  },
  {
   "cell_type": "markdown",
   "metadata": {},
   "source": [
    "adjectives"
   ]
  },
  {
   "cell_type": "code",
   "execution_count": 52,
   "metadata": {},
   "outputs": [
    {
     "name": "stdout",
     "output_type": "stream",
     "text": [
      "timely timely\n",
      "actively actively\n"
     ]
    }
   ],
   "source": [
    "# Testing adjectives ending in ly\n",
    "print('timely', lem.lemmatize('timely', pos = 'r'))\n",
    "print('actively', lem.lemmatize('actively', pos = 'a'))"
   ]
  },
  {
   "cell_type": "code",
   "execution_count": 110,
   "metadata": {},
   "outputs": [
    {
     "name": "stdout",
     "output_type": "stream",
     "text": [
      "closer close\n",
      "closest close\n",
      "smaller small\n",
      "smallest small\n",
      "drier dry\n",
      "driest dry\n"
     ]
    }
   ],
   "source": [
    "# comparative adjective\n",
    "print('closer', lem.lemmatize('closer', pos = 'a'))\n",
    "\n",
    "#superlative adjective\n",
    "print('closest', lem.lemmatize('closest', pos = 'a'))\n",
    "\n",
    "# comparative adjective:\n",
    "print('smaller', lem.lemmatize('smaller', pos = 'a'))\n",
    "\n",
    "# superlative adjective\n",
    "print('smallest', lem.lemmatize('smallest', pos = 'a'))\n",
    "\n",
    "# Dry\n",
    "print('drier', lem.lemmatize('drier', pos = 'a'))\n",
    "print('driest', lem.lemmatize('driest', pos = 'a'))"
   ]
  },
  {
   "cell_type": "markdown",
   "metadata": {},
   "source": [
    "Adverbs"
   ]
  },
  {
   "cell_type": "code",
   "execution_count": 109,
   "metadata": {},
   "outputs": [
    {
     "name": "stdout",
     "output_type": "stream",
     "text": [
      "farther far\n",
      "farthest farthest\n",
      "loudly loudly\n",
      "loudest loudest\n"
     ]
    }
   ],
   "source": [
    "# adverb\n",
    "print('farther', lem.lemmatize('farther', pos = 'r'))\n",
    "# superlative adverb\n",
    "print('farthest', lem.lemmatize('farthest', pos = 'r'))\n",
    "\n",
    "# adverb\n",
    "print('loudly', lem.lemmatize('loudly', pos = 'r'))\n",
    "# superlative adverb\n",
    "print('loudest', lem.lemmatize('loudest', pos = 'r'))"
   ]
  },
  {
   "cell_type": "markdown",
   "metadata": {},
   "source": [
    "Unusual verb conjugation: https://www.theenglishspace.com/grammar/glossary/irregular-verbs/unusual-irregular-verbs.html\n"
   ]
  },
  {
   "cell_type": "markdown",
   "metadata": {},
   "source": [
    "When punctuation is important: "
   ]
  },
  {
   "cell_type": "code",
   "execution_count": 19,
   "metadata": {},
   "outputs": [
    {
     "name": "stdout",
     "output_type": "stream",
     "text": [
      "flung flung\n",
      "flung fling\n"
     ]
    }
   ],
   "source": [
    "# One final fling until I go back to school\n",
    "print('flung', lem.lemmatize('flung', pos = 'n'))\n",
    "\n",
    " \n",
    "# Fling a rubber band\n",
    "print('flung', lem.lemmatize('flung', pos = 'v'))"
   ]
  },
  {
   "cell_type": "markdown",
   "metadata": {},
   "source": [
    "Fling as a noun means something compeltely different than as a verb, however fling will be grouped together as the same word, which causes error when running a model."
   ]
  },
  {
   "cell_type": "code",
   "execution_count": 1,
   "metadata": {},
   "outputs": [
    {
     "ename": "OSError",
     "evalue": "[E050] Can't find model 'en'. It doesn't seem to be a shortcut link, a Python package or a valid path to a data directory.",
     "output_type": "error",
     "traceback": [
      "\u001b[0;31m---------------------------------------------------------------------------\u001b[0m",
      "\u001b[0;31mOSError\u001b[0m                                   Traceback (most recent call last)",
      "\u001b[0;32m<ipython-input-1-7c40bf9cdae6>\u001b[0m in \u001b[0;36m<module>\u001b[0;34m\u001b[0m\n\u001b[1;32m      1\u001b[0m \u001b[0;32mimport\u001b[0m \u001b[0mspacy\u001b[0m\u001b[0;34m\u001b[0m\u001b[0;34m\u001b[0m\u001b[0m\n\u001b[0;32m----> 2\u001b[0;31m \u001b[0msp\u001b[0m \u001b[0;34m=\u001b[0m \u001b[0mspacy\u001b[0m\u001b[0;34m.\u001b[0m\u001b[0mload\u001b[0m\u001b[0;34m(\u001b[0m\u001b[0;34m'en'\u001b[0m\u001b[0;34m)\u001b[0m\u001b[0;34m\u001b[0m\u001b[0;34m\u001b[0m\u001b[0m\n\u001b[0m\u001b[1;32m      3\u001b[0m \u001b[0;34m\u001b[0m\u001b[0m\n\u001b[1;32m      4\u001b[0m words = ['better','ran', 'are', 'running', 'were', 'shared', 'organize', 'university', \n\u001b[1;32m      5\u001b[0m          'awoken', 'arose', 'beheld', 'sped', 'withhold', 'flung', 'cats', 'timely', 'actively', 'tighter', 'smaller', 'farther', 'driest', 'farthest', 'loudly']\n",
      "\u001b[0;32m/opt/anaconda3/lib/python3.8/site-packages/spacy/__init__.py\u001b[0m in \u001b[0;36mload\u001b[0;34m(name, **overrides)\u001b[0m\n\u001b[1;32m     28\u001b[0m     \u001b[0;32mif\u001b[0m \u001b[0mdepr_path\u001b[0m \u001b[0;32mnot\u001b[0m \u001b[0;32min\u001b[0m \u001b[0;34m(\u001b[0m\u001b[0;32mTrue\u001b[0m\u001b[0;34m,\u001b[0m \u001b[0;32mFalse\u001b[0m\u001b[0;34m,\u001b[0m \u001b[0;32mNone\u001b[0m\u001b[0;34m)\u001b[0m\u001b[0;34m:\u001b[0m\u001b[0;34m\u001b[0m\u001b[0;34m\u001b[0m\u001b[0m\n\u001b[1;32m     29\u001b[0m         \u001b[0mwarnings\u001b[0m\u001b[0;34m.\u001b[0m\u001b[0mwarn\u001b[0m\u001b[0;34m(\u001b[0m\u001b[0mWarnings\u001b[0m\u001b[0;34m.\u001b[0m\u001b[0mW001\u001b[0m\u001b[0;34m.\u001b[0m\u001b[0mformat\u001b[0m\u001b[0;34m(\u001b[0m\u001b[0mpath\u001b[0m\u001b[0;34m=\u001b[0m\u001b[0mdepr_path\u001b[0m\u001b[0;34m)\u001b[0m\u001b[0;34m,\u001b[0m \u001b[0mDeprecationWarning\u001b[0m\u001b[0;34m)\u001b[0m\u001b[0;34m\u001b[0m\u001b[0;34m\u001b[0m\u001b[0m\n\u001b[0;32m---> 30\u001b[0;31m     \u001b[0;32mreturn\u001b[0m \u001b[0mutil\u001b[0m\u001b[0;34m.\u001b[0m\u001b[0mload_model\u001b[0m\u001b[0;34m(\u001b[0m\u001b[0mname\u001b[0m\u001b[0;34m,\u001b[0m \u001b[0;34m**\u001b[0m\u001b[0moverrides\u001b[0m\u001b[0;34m)\u001b[0m\u001b[0;34m\u001b[0m\u001b[0;34m\u001b[0m\u001b[0m\n\u001b[0m\u001b[1;32m     31\u001b[0m \u001b[0;34m\u001b[0m\u001b[0m\n\u001b[1;32m     32\u001b[0m \u001b[0;34m\u001b[0m\u001b[0m\n",
      "\u001b[0;32m/opt/anaconda3/lib/python3.8/site-packages/spacy/util.py\u001b[0m in \u001b[0;36mload_model\u001b[0;34m(name, **overrides)\u001b[0m\n\u001b[1;32m    173\u001b[0m     \u001b[0;32melif\u001b[0m \u001b[0mhasattr\u001b[0m\u001b[0;34m(\u001b[0m\u001b[0mname\u001b[0m\u001b[0;34m,\u001b[0m \u001b[0;34m\"exists\"\u001b[0m\u001b[0;34m)\u001b[0m\u001b[0;34m:\u001b[0m  \u001b[0;31m# Path or Path-like to model data\u001b[0m\u001b[0;34m\u001b[0m\u001b[0;34m\u001b[0m\u001b[0m\n\u001b[1;32m    174\u001b[0m         \u001b[0;32mreturn\u001b[0m \u001b[0mload_model_from_path\u001b[0m\u001b[0;34m(\u001b[0m\u001b[0mname\u001b[0m\u001b[0;34m,\u001b[0m \u001b[0;34m**\u001b[0m\u001b[0moverrides\u001b[0m\u001b[0;34m)\u001b[0m\u001b[0;34m\u001b[0m\u001b[0;34m\u001b[0m\u001b[0m\n\u001b[0;32m--> 175\u001b[0;31m     \u001b[0;32mraise\u001b[0m \u001b[0mIOError\u001b[0m\u001b[0;34m(\u001b[0m\u001b[0mErrors\u001b[0m\u001b[0;34m.\u001b[0m\u001b[0mE050\u001b[0m\u001b[0;34m.\u001b[0m\u001b[0mformat\u001b[0m\u001b[0;34m(\u001b[0m\u001b[0mname\u001b[0m\u001b[0;34m=\u001b[0m\u001b[0mname\u001b[0m\u001b[0;34m)\u001b[0m\u001b[0;34m)\u001b[0m\u001b[0;34m\u001b[0m\u001b[0;34m\u001b[0m\u001b[0m\n\u001b[0m\u001b[1;32m    176\u001b[0m \u001b[0;34m\u001b[0m\u001b[0m\n\u001b[1;32m    177\u001b[0m \u001b[0;34m\u001b[0m\u001b[0m\n",
      "\u001b[0;31mOSError\u001b[0m: [E050] Can't find model 'en'. It doesn't seem to be a shortcut link, a Python package or a valid path to a data directory."
     ]
    }
   ],
   "source": [
    "import spacy\n",
    "sp = spacy.load(\"en_core_web_sm\")\n",
    "\n",
    "words = ['better','ran', 'are', 'running', 'were', 'shared', 'organize', 'university', \n",
    "         'awoken', 'arose', 'beheld', 'sped', 'withhold', 'flung', 'cats', 'timely', 'actively', 'tighter', 'smaller', 'farther', 'driest', 'farthest', 'loudly']\n",
    "\n",
    "spacy_words = []\n",
    "\n",
    "for i in words:\n",
    "    token = sp(i)\n",
    "    for word in token:\n",
    "        spacy_words.append(word.lemma_)\n",
    "    "
   ]
  },
  {
   "cell_type": "code",
   "execution_count": 343,
   "metadata": {},
   "outputs": [
    {
     "name": "stdout",
     "output_type": "stream",
     "text": [
      "better --> good\n",
      "ran --> ran\n",
      "are --> be\n",
      "running --> run\n",
      "were --> be\n",
      "shared --> share\n",
      "organize --> organize\n",
      "university --> university\n",
      "awoken --> awake\n",
      "arose --> arose\n",
      "beheld --> beheld\n",
      "sped --> speed\n",
      "withhold --> withhold\n",
      "flung --> flung\n",
      "cats --> cat\n",
      "timely --> timely\n",
      "actively --> actively\n",
      "tighter --> tight\n",
      "smaller --> small\n",
      "farther --> farther\n",
      "driest --> driest\n",
      "farthest --> farthest\n",
      "loudly --> loudly\n"
     ]
    }
   ],
   "source": [
    "tags = nltk.pos_tag(words)\n",
    "# extract pos\n",
    "tag = list(dict(tags).values())\n",
    "\n",
    "for i in range(0, len(tag)): \n",
    "    if tag[i] == 'JJR' or tag[i] == 'JJ' or tag[i] == 'JJS':\n",
    "        tag[i] = 'a'\n",
    "    elif tag[i] == 'VBP' or tag[i] == 'VBG' or tag[i] == 'VBD' or tag[i] == 'VBN':\n",
    "        tag[i] = 'v'\n",
    "    elif tag[i] == 'NN' or tag[i]== 'NNS':\n",
    "        tag[i] = 'n'\n",
    "    elif tag[i] == 'RB':\n",
    "        tag[i] = 'r'\n",
    "    else:\n",
    "        pass\n",
    "    \n",
    "word_list = []\n",
    "for i in range(0, len(tag)):\n",
    "    word_list.append([words[i], tag[i]])\n",
    "    \n",
    "nltk_words = []\n",
    "\n",
    "for word in word_list:\n",
    "    print(word[0],'-->', lem.lemmatize(word[0], pos = word[1]))\n",
    "    nltk_words.append(lem.lemmatize(word[0], pos = word[1]))"
   ]
  },
  {
   "cell_type": "code",
   "execution_count": 352,
   "metadata": {},
   "outputs": [
    {
     "name": "stdout",
     "output_type": "stream",
     "text": [
      "NLTK: good , Spacy: well\n",
      "NLTK: ran , Spacy: run\n",
      "NLTK: arose , Spacy: arise\n",
      "NLTK: farther , Spacy: far\n",
      "NLTK: driest , Spacy: dry\n"
     ]
    }
   ],
   "source": [
    "for i in range(0, len(lem_words)):\n",
    "    if nltk_words[i] != spacy_words[i]:\n",
    "        print('NLTK:', nltk_words[i], ', Spacy:', spacy_words[i])"
   ]
  },
  {
   "cell_type": "markdown",
   "metadata": {},
   "source": [
    "Excerpt From: Sowmya Vajjala, Bodhisattwa Majumder, Anuj Gupta & Harshit Surana. “Practical Natural Language Processing.” Apple Books. https://books.apple.com/us/book/practical-natural-language-processing/id1519103544"
   ]
  }
 ],
 "metadata": {
  "kernelspec": {
   "display_name": "Python 3",
   "language": "python",
   "name": "python3"
  },
  "language_info": {
   "codemirror_mode": {
    "name": "ipython",
    "version": 3
   },
   "file_extension": ".py",
   "mimetype": "text/x-python",
   "name": "python",
   "nbconvert_exporter": "python",
   "pygments_lexer": "ipython3",
   "version": "3.8.3"
  }
 },
 "nbformat": 4,
 "nbformat_minor": 4
}
